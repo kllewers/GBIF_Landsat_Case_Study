{
 "cells": [
  {
   "cell_type": "code",
   "execution_count": 2,
   "metadata": {},
   "outputs": [
    {
     "name": "stderr",
     "output_type": "stream",
     "text": [
      "*** Earth Engine *** Share your feedback by taking our Annual Developer Satisfaction Survey: https://google.qualtrics.com/jfe/form/SV_0JLhFqfSY1uiEaW?source=Init\n"
     ]
    }
   ],
   "source": [
    "import ee\n",
    "\n",
    "# Trigger the authentication flow.\n",
    "ee.Authenticate()\n",
    "\n",
    "# Initialize the library.\n",
    "ee.Initialize(project='ee-krle4401')"
   ]
  },
  {
   "cell_type": "code",
   "execution_count": 4,
   "metadata": {},
   "outputs": [],
   "source": [
    "# Import libraries\n",
    "import geemap\n",
    "\n",
    "import geemap.colormaps as cm\n",
    "import pandas as pd, geopandas as gpd\n",
    "import numpy as np, matplotlib.pyplot as plt\n",
    "import os, requests, math, random\n",
    "\n",
    "from ipyleaflet import TileLayer\n",
    "from statsmodels.stats.outliers_influence import variance_inflation_factor"
   ]
  },
  {
   "cell_type": "code",
   "execution_count": null,
   "metadata": {},
   "outputs": [],
   "source": [
    "def get_gbif_species_data(species_name, country_code):\n",
    "    \"\"\"\n",
    "    Retrieves observational data for a specific species using the GBIF API and returns it as a pandas DataFrame.\n",
    "\n",
    "    Parameters:\n",
    "    species_name (str): The scientific name of the species to query.\n",
    "    country_code (str): The country code of the where the observation data will be queried.\n",
    "\n",
    "    Returns:\n",
    "    pd.DataFrame: A pandas DataFrame containing the observational data.\n",
    "    \"\"\"\n",
    "    base_url = \"https://api.gbif.org/v1/occurrence/search\"\n",
    "    params = {\n",
    "        \"scientificName\": species_name,\n",
    "        \"country\": country_code,\n",
    "        \"hasCoordinate\": \"true\",\n",
    "        \"basisOfRecord\": \"HUMAN_OBSERVATION\",\n",
    "        \"limit\": 10000,\n",
    "    }\n",
    "\n",
    "    try:\n",
    "        response = requests.get(base_url, params=params)\n",
    "        response.raise_for_status()  # Raises an exception for a response error.\n",
    "        data = response.json()\n",
    "        occurrences = data.get(\"results\", [])\n",
    "\n",
    "        if occurrences:  # If data is present\n",
    "            df = pd.json_normalize(occurrences)\n",
    "            return df\n",
    "        else:\n",
    "            print(\"No data found for the given species and country code.\")\n",
    "            return pd.DataFrame()  # Returns an empty DataFrame\n",
    "    except requests.RequestException as e:\n",
    "        print(f\"Request failed: {e}\")\n",
    "        return pd.DataFrame()  # Returns an empty DataFrame in case of an exception"
   ]
  },
  {
   "cell_type": "code",
   "execution_count": null,
   "metadata": {},
   "outputs": [],
   "source": [
    "# Retrieve Fairy Pitta data\n",
    "df = get_gbif_species_data(\"Pitta nympha\", \"KR\")\n",
    "\"\"\"\n",
    "# Save DataFrame to CSV and read back in.\n",
    "df.to_csv(\"pitta_nympha_data.csv\", index=False)\n",
    "df = pd.read_csv(\"pitta_nympha_data.csv\")\n",
    "\"\"\"\n",
    "df.head(1)  # Display the first row of the DataFrame"
   ]
  },
  {
   "cell_type": "code",
   "execution_count": null,
   "metadata": {},
   "outputs": [],
   "source": [
    "# Convert DataFrame to GeoDataFrame\n",
    "gdf = gpd.GeoDataFrame(\n",
    "    df,\n",
    "    geometry=gpd.points_from_xy(df.decimalLongitude,\n",
    "                                df.decimalLatitude),\n",
    "    crs=\"EPSG:4326\"\n",
    ")[[\"species\", \"year\", \"month\", \"geometry\"]]\n",
    "\"\"\"\n",
    "# Convert GeoDataFrame to GeoPackage (requires pycrs module)\n",
    "%pip install -U -q pycrs\n",
    "gdf.to_file(\"pitta_nympha_data.gpkg\", driver=\"GPKG\")\n",
    "gdf = gpd.read_file(\"pitta_nympha_data.gpkg\")\n",
    "\"\"\"\n",
    "gdf.head(1)  # Display the first row of the GeoDataFrame"
   ]
  },
  {
   "cell_type": "code",
   "execution_count": null,
   "metadata": {},
   "outputs": [],
   "source": [
    "# Yearly and monthly data distribution heatmap\n",
    "def plot_heatmap(gdf, h_size=8):\n",
    "\n",
    "    statistics = gdf.groupby([\"month\", \"year\"]).size().unstack(fill_value=0)\n",
    "\n",
    "    # Heatmap\n",
    "    plt.figure(figsize=(h_size, h_size - 6))\n",
    "    heatmap = plt.imshow(\n",
    "        statistics.values, cmap=\"YlOrBr\", origin=\"upper\", aspect=\"auto\"\n",
    "    )\n",
    "\n",
    "    # Display values above each pixel\n",
    "    for i in range(len(statistics.index)):\n",
    "        for j in range(len(statistics.columns)):\n",
    "            plt.text(\n",
    "                j, i, statistics.values[i, j], ha=\"center\", va=\"center\", color=\"black\"\n",
    "            )\n",
    "\n",
    "    plt.colorbar(heatmap, label=\"Count\")\n",
    "    plt.title(\"Monthly Species Count by Year\")\n",
    "    plt.xlabel(\"Year\")\n",
    "    plt.ylabel(\"Month\")\n",
    "    plt.xticks(range(len(statistics.columns)), statistics.columns)\n",
    "    plt.yticks(range(len(statistics.index)), statistics.index)\n",
    "    plt.tight_layout()\n",
    "    plt.savefig(\"heatmap_plot.png\")\n",
    "    plt.show()"
   ]
  },
  {
   "cell_type": "code",
   "execution_count": null,
   "metadata": {},
   "outputs": [],
   "source": [
    "plot_heatmap(gdf)"
   ]
  },
  {
   "cell_type": "code",
   "execution_count": null,
   "metadata": {},
   "outputs": [],
   "source": [
    "# Filtering data by year and month\n",
    "filtered_gdf = gdf[\n",
    "    (~gdf['year'].eq(1995)) &\n",
    "    (~gdf['month'].between(8, 9))\n",
    "]"
   ]
  },
  {
   "cell_type": "code",
   "execution_count": null,
   "metadata": {},
   "outputs": [],
   "source": [
    "# Convert GeoDataFrame to Earth Engine object\n",
    "data_raw = geemap.geopandas_to_ee(filtered_gdf)"
   ]
  },
  {
   "cell_type": "code",
   "execution_count": null,
   "metadata": {},
   "outputs": [],
   "source": [
    "# Spatial resolution setting (meters)\n",
    "grain_size = 1000"
   ]
  },
  {
   "cell_type": "code",
   "execution_count": null,
   "metadata": {},
   "outputs": [],
   "source": [
    "def remove_duplicates(data, grain_size):\n",
    "    # Select one occurrence record per pixel at the chosen spatial resolution\n",
    "    random_raster = ee.Image.random().reproject(\"EPSG:4326\", None, grain_size)\n",
    "    rand_point_vals = random_raster.sampleRegions(\n",
    "        collection=ee.FeatureCollection(data), geometries=True\n",
    "    )\n",
    "    return rand_point_vals.distinct(\"random\")\n",
    "\n",
    "\n",
    "data = remove_duplicates(data_raw, grain_size)\n",
    "\n",
    "# Before selection and after selection\n",
    "print(\"Original data size:\", data_raw.size().getInfo())\n",
    "print(\"Final data size:\", data.size().getInfo())"
   ]
  },
  {
   "cell_type": "code",
   "execution_count": null,
   "metadata": {},
   "outputs": [],
   "source": [
    "# Visualization of geographic sampling bias before (blue) and after (red) preprocessing\n",
    "Map = geemap.Map(layout={\"height\": \"400px\", \"width\": \"800px\"})\n",
    "\n",
    "# Add the random raster layer\n",
    "random_raster = ee.Image.random().reproject(\"EPSG:4326\", None, grain_size)\n",
    "Map.addLayer(\n",
    "    random_raster,\n",
    "    {\"min\": 0, \"max\": 1, \"palette\": [\"black\", \"white\"], \"opacity\": 0.5},\n",
    "    \"Random Raster\",\n",
    ")\n",
    "\n",
    "# Add the original data layer in blue\n",
    "Map.addLayer(data_raw, {\"color\": \"blue\"}, \"Original data\")\n",
    "\n",
    "# Add the final data layer in red\n",
    "Map.addLayer(data, {\"color\": \"red\"}, \"Final data\")\n",
    "\n",
    "# Set the center of the map to the coordinates\n",
    "Map.setCenter(126.712, 33.516, 14)\n",
    "Map"
   ]
  },
  {
   "cell_type": "code",
   "execution_count": null,
   "metadata": {},
   "outputs": [],
   "source": []
  }
 ],
 "metadata": {
  "kernelspec": {
   "display_name": "env",
   "language": "python",
   "name": "python3"
  },
  "language_info": {
   "codemirror_mode": {
    "name": "ipython",
    "version": 3
   },
   "file_extension": ".py",
   "mimetype": "text/x-python",
   "name": "python",
   "nbconvert_exporter": "python",
   "pygments_lexer": "ipython3",
   "version": "3.9.6"
  }
 },
 "nbformat": 4,
 "nbformat_minor": 2
}
